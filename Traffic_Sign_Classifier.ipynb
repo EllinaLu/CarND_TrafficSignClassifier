{
 "cells": [
  {
   "cell_type": "markdown",
   "metadata": {
    "deletable": true,
    "editable": true
   },
   "source": [
    "# Self-Driving Car Engineer Nanodegree\n",
    "\n",
    "## Deep Learning\n",
    "\n",
    "## Project: Build a Traffic Sign Recognition Classifier\n",
    "\n",
    "In this notebook, a template is provided for you to implement your functionality in stages, which is required to successfully complete this project. If additional code is required that cannot be included in the notebook, be sure that the Python code is successfully imported and included in your submission if necessary. \n",
    "\n",
    "> **Note**: Once you have completed all of the code implementations, you need to finalize your work by exporting the iPython Notebook as an HTML document. Before exporting the notebook to html, all of the code cells need to have been run so that reviewers can see the final implementation and output. You can then export the notebook by using the menu above and navigating to  \\n\",\n",
    "    \"**File -> Download as -> HTML (.html)**. Include the finished document along with this notebook as your submission. \n",
    "\n",
    "In addition to implementing code, there is a writeup to complete. The writeup should be completed in a separate file, which can be either a markdown file or a pdf document. There is a [write up template](https://github.com/udacity/CarND-Traffic-Sign-Classifier-Project/blob/master/writeup_template.md) that can be used to guide the writing process. Completing the code template and writeup template will cover all of the [rubric points](https://review.udacity.com/#!/rubrics/481/view) for this project.\n",
    "\n",
    "The [rubric](https://review.udacity.com/#!/rubrics/481/view) contains \"Stand Out Suggestions\" for enhancing the project beyond the minimum requirements. The stand out suggestions are optional. If you decide to pursue the \"stand out suggestions\", you can include the code in this Ipython notebook and also discuss the results in the writeup file.\n",
    "\n",
    "\n",
    ">**Note:** Code and Markdown cells can be executed using the **Shift + Enter** keyboard shortcut. In addition, Markdown cells can be edited by typically double-clicking the cell to enter edit mode."
   ]
  },
  {
   "cell_type": "markdown",
   "metadata": {
    "deletable": true,
    "editable": true
   },
   "source": [
    "---\n",
    "## Step 0: Load The Data"
   ]
  },
  {
   "cell_type": "code",
   "execution_count": 177,
   "metadata": {
    "collapsed": false,
    "deletable": true,
    "editable": true
   },
   "outputs": [
    {
     "name": "stdout",
     "output_type": "stream",
     "text": [
      "\n",
      "Image Shape: (32, 32, 3)\n",
      "\n",
      "Training Set:   34799 samples\n",
      "Validation Set: 4410 samples\n",
      "Test Set:       12630 samples\n"
     ]
    }
   ],
   "source": [
    "# Load pickled data\n",
    "import pickle\n",
    "\n",
    "# TODO: Fill this in based on where you saved the training and testing data\n",
    "\n",
    "training_file = \"../../data/traffic-signs-data/train.p\"\n",
    "validation_file= \"../../data/traffic-signs-data/valid.p\"\n",
    "testing_file = \"../../data/traffic-signs-data/test.p\"\n",
    "\n",
    "with open(training_file, mode='rb') as f:\n",
    "    train = pickle.load(f)\n",
    "with open(validation_file, mode='rb') as f:\n",
    "    valid = pickle.load(f)\n",
    "with open(testing_file, mode='rb') as f:\n",
    "    test = pickle.load(f)\n",
    "    \n",
    "X_train_raw, y_train = train['features'], train['labels']\n",
    "X_valid_raw, y_valid = valid['features'], valid['labels']\n",
    "X_test_raw, y_test = test['features'], test['labels']\n",
    "\n",
    "print()\n",
    "print(\"Image Shape: {}\".format(X_train_raw[0].shape))\n",
    "print()\n",
    "print(\"Training Set:   {} samples\".format(len(X_train_raw)))\n",
    "print(\"Validation Set: {} samples\".format(len(X_valid_raw)))\n",
    "print(\"Test Set:       {} samples\".format(len(X_test_raw)))"
   ]
  },
  {
   "cell_type": "markdown",
   "metadata": {
    "deletable": true,
    "editable": true
   },
   "source": [
    "---\n",
    "\n",
    "## Step 1: Dataset Summary & Exploration\n",
    "\n",
    "The pickled data is a dictionary with 4 key/value pairs:\n",
    "\n",
    "- `'features'` is a 4D array containing raw pixel data of the traffic sign images, (num examples, width, height, channels).\n",
    "- `'labels'` is a 1D array containing the label/class id of the traffic sign. The file `signnames.csv` contains id -> name mappings for each id.\n",
    "- `'sizes'` is a list containing tuples, (width, height) representing the original width and height the image.\n",
    "- `'coords'` is a list containing tuples, (x1, y1, x2, y2) representing coordinates of a bounding box around the sign in the image. **THESE COORDINATES ASSUME THE ORIGINAL IMAGE. THE PICKLED DATA CONTAINS RESIZED VERSIONS (32 by 32) OF THESE IMAGES**\n",
    "\n",
    "Complete the basic data summary below. Use python, numpy and/or pandas methods to calculate the data summary rather than hard coding the results. For example, the [pandas shape method](http://pandas.pydata.org/pandas-docs/stable/generated/pandas.DataFrame.shape.html) might be useful for calculating some of the summary results. "
   ]
  },
  {
   "cell_type": "markdown",
   "metadata": {
    "deletable": true,
    "editable": true
   },
   "source": [
    "### Provide a Basic Summary of the Data Set Using Python, Numpy and/or Pandas"
   ]
  },
  {
   "cell_type": "code",
   "execution_count": 178,
   "metadata": {
    "collapsed": false,
    "deletable": true,
    "editable": true
   },
   "outputs": [
    {
     "name": "stdout",
     "output_type": "stream",
     "text": [
      "Number of training examples = 34799\n",
      "Number of testing examples = 12630\n",
      "Image data shape = (32, 32)\n",
      "Number of classes = 43\n"
     ]
    }
   ],
   "source": [
    "### Replace each question mark with the appropriate value. \n",
    "### Use python, pandas or numpy methods rather than hard coding the results\n",
    "\n",
    "# TODO: Number of training examples\n",
    "n_train = y_train.shape[0]\n",
    "n_valid = y_valid.shape[0]\n",
    "\n",
    "# TODO: Number of testing examples.\n",
    "n_test = y_test.shape[0]\n",
    "\n",
    "# TODO: What's the shape of an traffic sign image?\n",
    "image_shape = X_valid_raw.shape[1:3]\n",
    "\n",
    "# TODO: How many unique classes/labels there are in the dataset.\n",
    "n_classes = max(y_train)+1\n",
    "\n",
    "print(\"Number of training examples =\", n_train)\n",
    "print(\"Number of testing examples =\", n_test)\n",
    "print(\"Image data shape =\", image_shape)\n",
    "print(\"Number of classes =\", n_classes)"
   ]
  },
  {
   "cell_type": "markdown",
   "metadata": {
    "deletable": true,
    "editable": true
   },
   "source": [
    "### Include an exploratory visualization of the dataset"
   ]
  },
  {
   "cell_type": "markdown",
   "metadata": {
    "deletable": true,
    "editable": true
   },
   "source": [
    "Visualize the German Traffic Signs Dataset using the pickled file(s). This is open ended, suggestions include: plotting traffic sign images, plotting the count of each sign, etc.\n",
    "\n",
    "The [Matplotlib](http://matplotlib.org/) [examples](http://matplotlib.org/examples/index.html) and [gallery](http://matplotlib.org/gallery.html) pages are a great resource for doing visualizations in Python.\n",
    "\n",
    "**NOTE:** It's recommended you start with something simple first. If you wish to do more, come back to it after you've completed the rest of the sections."
   ]
  },
  {
   "cell_type": "code",
   "execution_count": 179,
   "metadata": {
    "collapsed": false,
    "deletable": true,
    "editable": true
   },
   "outputs": [
    {
     "name": "stdout",
     "output_type": "stream",
     "text": [
      "statis: [  180.  1980.  2010.  1260.  1770.  1650.   360.  1290.  1260.  1320.\n",
      "  1800.  1170.  1890.  1920.   690.   540.   360.   990.  1080.   180.\n",
      "   300.   270.   330.   450.   240.  1350.   540.   210.   480.   240.\n",
      "   390.   690.   210.   599.   360.  1080.   330.   180.  1860.   270.\n",
      "   300.   210.   210.]\n",
      "statis: [  30.  240.  240.  150.  210.  210.   60.  150.  150.  150.  210.  150.\n",
      "  210.  240.   90.   90.   60.  120.  120.   30.   60.   60.   60.   60.\n",
      "   30.  150.   60.   30.   60.   30.   60.   90.   30.   90.   60.  120.\n",
      "   60.   30.  210.   30.   60.   30.   30.]\n"
     ]
    },
    {
     "data": {
      "image/png": "[encoded data removed]",
      "text/plain": [
       "<matplotlib.figure.Figure at 0x1d732007c18>"
      ]
     },
     "metadata": {},
     "output_type": "display_data"
    }
   ],
   "source": [
    "### Data exploration visualization code goes here.\n",
    "### Feel free to use as many code cells as needed.\n",
    "import random\n",
    "import numpy as np\n",
    "import pylab as pylab\n",
    "import matplotlib.pyplot as plt\n",
    "# Visualizations will be shown in the notebook.\n",
    "%matplotlib inline\n",
    "\n",
    "# show one random image from training set\n",
    "#index = random.randint(0, len(X_train_raw))\n",
    "#image = X_train_raw[index].squeeze()\n",
    "\n",
    "#plt.figure(figsize=(1,1))\n",
    "#plt.imshow(image, cmap=\"gray\")\n",
    "#print(y_train[index])\n",
    "\n",
    "#plot the labels from training set\n",
    "statis =np.zeros(n_classes)\n",
    "for i in range(n_train):\n",
    "    statis[y_train[i]]+=1\n",
    "    \n",
    "print('statis:', statis)\n",
    "plt.plot(statis)\n",
    "plt.title('train_labels statistics')\n",
    "#plt.show()\n",
    "pylab.savefig('train_labels_statis.png')\n",
    "plt.gcf().clear()\n",
    "\n",
    "#plot the labels from validation set\n",
    "v_statis =np.zeros(n_classes)\n",
    "for i in range(n_valid):\n",
    "    v_statis[y_valid[i]]+=1\n",
    "    \n",
    "print('statis:', v_statis)\n",
    "plt.plot(v_statis)\n",
    "plt.title('validation_labels statistics')\n",
    "#plt.show()\n",
    "pylab.savefig('validation_labels_statis.png')\n"
   ]
  },
  {
   "cell_type": "markdown",
   "metadata": {
    "deletable": true,
    "editable": true
   },
   "source": [
    "----\n",
    "\n",
    "## Step 2: Design and Test a Model Architecture\n",
    "\n",
    "Design and implement a deep learning model that learns to recognize traffic signs. Train and test your model on the [German Traffic Sign Dataset](http://benchmark.ini.rub.de/?section=gtsrb&subsection=dataset).\n",
    "\n",
    "The LeNet-5 implementation shown in the [classroom](https://classroom.udacity.com/nanodegrees/nd013/parts/fbf77062-5703-404e-b60c-95b78b2f3f9e/modules/6df7ae49-c61c-4bb2-a23e-6527e69209ec/lessons/601ae704-1035-4287-8b11-e2c2716217ad/concepts/d4aca031-508f-4e0b-b493-e7b706120f81) at the end of the CNN lesson is a solid starting point. You'll have to change the number of classes and possibly the preprocessing, but aside from that it's plug and play! \n",
    "\n",
    "With the LeNet-5 solution from the lecture, you should expect a validation set accuracy of about 0.89. To meet specifications, the validation set accuracy will need to be at least 0.93. It is possible to get an even higher accuracy, but 0.93 is the minimum for a successful project submission. \n",
    "\n",
    "There are various aspects to consider when thinking about this problem:\n",
    "\n",
    "- Neural network architecture (is the network over or underfitting?)\n",
    "- Play around preprocessing techniques (normalization, rgb to grayscale, etc)\n",
    "- Number of examples per label (some have more than others).\n",
    "- Generate fake data.\n",
    "\n",
    "Here is an example of a [published baseline model on this problem](http://yann.lecun.com/exdb/publis/pdf/sermanet-ijcnn-11.pdf). It's not required to be familiar with the approach used in the paper but, it's good practice to try to read papers like these."
   ]
  },
  {
   "cell_type": "markdown",
   "metadata": {
    "deletable": true,
    "editable": true
   },
   "source": [
    "### Pre-process the Data Set (normalization, grayscale, etc.)"
   ]
  },
  {
   "cell_type": "markdown",
   "metadata": {
    "deletable": true,
    "editable": true
   },
   "source": [
    "Use the code cell (or multiple code cells, if necessary) to implement the first step of your project."
   ]
  },
  {
   "cell_type": "code",
   "execution_count": 257,
   "metadata": {
    "collapsed": false,
    "deletable": true,
    "editable": true
   },
   "outputs": [
    {
     "name": "stdout",
     "output_type": "stream",
     "text": [
      "Preprocessing done\n",
      "36\n",
      "4\n",
      "17\n"
     ]
    },
    {
     "data": {
      "image/png": "[encoded data removed]",
      "text/plain": [
       "<matplotlib.figure.Figure at 0x1d73729e748>"
      ]
     },
     "metadata": {},
     "output_type": "display_data"
    },
    {
     "data": {
      "image/png": "[encoded data removed]",
      "text/plain": [
       "<matplotlib.figure.Figure at 0x1d73294b208>"
      ]
     },
     "metadata": {},
     "output_type": "display_data"
    },
    {
     "data": {
      "image/png": "[encoded data removed]",
      "text/plain": [
       "<matplotlib.figure.Figure at 0x1d73729e668>"
      ]
     },
     "metadata": {},
     "output_type": "display_data"
    }
   ],
   "source": [
    "### Preprocess the data here. Preprocessing steps could include normalization, converting to grayscale, etc.\n",
    "### Feel free to use as many code cells as needed.\n",
    "from sklearn.utils import shuffle\n",
    "import cv2\n",
    "\n",
    "#convert to grayscale\n",
    "def rgb2gray(img):\n",
    "    shape = img.shape\n",
    "    tmp = cv2.cvtColor(img, cv2.COLOR_BGR2GRAY)\n",
    "    tmp = tmp.reshape(shape[0], shape[1], 1)\n",
    "    return tmp\n",
    "\n",
    "#normalize grayscale to mean=0\n",
    "def normalize(img):\n",
    "    minValue = 0 #image_data.min()\n",
    "    maxValue = 255 #image_data.max()\n",
    "    currRange = maxValue - minValue\n",
    "    return 0.1 + (img-minValue) * 0.8/currRange\n",
    "\n",
    "def preprocess(images):\n",
    "    shape = images.shape\n",
    "    out = np.zeros((shape[0],shape[1],shape[2],1))\n",
    "    fig = plt.figure()\n",
    "    \n",
    "    for i in range(shape[0]):\n",
    "        if i == index:\n",
    "            tmpImage = images[i].squeeze()\n",
    "            plt.subplot(141)\n",
    "            plt.imshow(tmpImage, cmap=\"gray\")\n",
    "            \n",
    "        out[i] = rgb2gray(images[i])\n",
    "        if i == index:\n",
    "            tmpImage = out[i].squeeze()\n",
    "            plt.subplot(142)\n",
    "            plt.imshow(tmpImage, cmap=\"gray\")\n",
    "            \n",
    "        out[i] -= np.mean(out[i])\n",
    "        if i == index:\n",
    "            tmpImage = out[i].squeeze()\n",
    "            plt.subplot(143)\n",
    "            plt.imshow(tmpImage, cmap=\"gray\")\n",
    "            \n",
    "        out[i] = normalize(out[i])\n",
    "        if i == index:\n",
    "            tmpImage = out[i].squeeze()\n",
    "            plt.subplot(144)\n",
    "            plt.imshow(tmpImage, cmap=\"gray\")\n",
    "    return out\n",
    "\n",
    "# show one random image from training set\n",
    "index = 1000\n",
    "\n",
    "X_train = preprocess(X_train_raw)\n",
    "pylab.savefig('preprocess_train_'+str(index)+'.png')\n",
    "X_valid = preprocess(X_valid_raw)\n",
    "pylab.savefig('preprocess_valid_'+str(index)+'.png')\n",
    "X_test = preprocess(X_test_raw)\n",
    "pylab.savefig('preprocess_test_'+str(index)+'.png')\n",
    "\n",
    "print(\"Preprocessing done\")\n",
    "\n",
    "#plt.subplot(221)\n",
    "#plt.imshow(image_raw, cmap=\"gray\")\n",
    "#plt.subplot(222)\n",
    "#plt.imshow(image, cmap=\"gray\")\n",
    "#plt.subplot_tool()\n",
    "#plt.show()\n",
    "\n",
    "print(y_train[index])\n",
    "print(y_valid[index])\n",
    "print(y_test[index])"
   ]
  },
  {
   "cell_type": "markdown",
   "metadata": {
    "deletable": true,
    "editable": true
   },
   "source": [
    "### Model Architecture"
   ]
  },
  {
   "cell_type": "code",
   "execution_count": 144,
   "metadata": {
    "collapsed": false,
    "deletable": true,
    "editable": true
   },
   "outputs": [],
   "source": [
    "### Define your architecture here.\n",
    "### Feel free to use as many code cells as needed.\n",
    "import tensorflow as tf\n",
    "from tensorflow.contrib.layers import flatten\n",
    "\n",
    "def LeNet(x, keep_prob):    \n",
    "    # Arguments used for tf.truncated_normal, randomly defines variables for the weights and biases for each layer\n",
    "    mu = 0\n",
    "    sigma = 0.1\n",
    "    beta = 0.01\n",
    "    \n",
    "    weights = [tf.Variable(tf.truncated_normal(shape=(5, 5, 1, 5), mean = mu, stddev = sigma)),\n",
    "               tf.Variable(tf.truncated_normal(shape=(5, 5, 5, 16), mean = mu, stddev = sigma)),\n",
    "               tf.Variable(tf.truncated_normal(shape=(400, 80), mean = mu, stddev = sigma)),\n",
    "               tf.Variable(tf.truncated_normal(shape=(80, n_classes), mean = mu, stddev = sigma)),\n",
    "               tf.Variable(tf.truncated_normal(shape=(84, n_classes), mean = mu, stddev = sigma))]\n",
    "    biases = [tf.Variable(tf.zeros(5)),\n",
    "              tf.Variable(tf.zeros(16)),\n",
    "              tf.Variable(tf.zeros(80)),\n",
    "              tf.Variable(tf.zeros(n_classes)),\n",
    "              tf.Variable(tf.zeros(n_classes))]\n",
    "    \n",
    "    # TODO: Layer 1: Convolutional. Input = 32x32x1. Output = 28x28x6.\n",
    "    stride_1 = [1, 1, 1, 1]\n",
    "    ly_1 = tf.nn.conv2d(x, weights[0], stride_1, 'VALID')\n",
    "    ly_1 = tf.nn.bias_add(ly_1, biases[0])    \n",
    "\n",
    "    # TODO: Activation.\n",
    "    ly_1 = tf.nn.relu(ly_1)\n",
    "    #print('[1]=', ly_1.get_shape())\n",
    "\n",
    "    # TODO: Pooling. Input = 28x28x6. Output = 14x14x6.\n",
    "    ly_1 = tf.nn.max_pool(ly_1, ksize=[1, 2, 2, 1], strides=[1, 2, 2, 1], padding='SAME')\n",
    "\n",
    "    # TODO: Layer 2: Convolutional. Output = 10x10x16.\n",
    "    stride_2 = [1, 1, 1, 1]\n",
    "    ly_2 = tf.nn.conv2d(ly_1, weights[1], stride_2, 'VALID')\n",
    "    ly_2 = tf.nn.bias_add(ly_2, biases[1]) \n",
    "    \n",
    "    # TODO: Activation.\n",
    "    ly_2 = tf.nn.relu(ly_2)\n",
    "\n",
    "    # TODO: Pooling. Input = 10x10x16. Output = 5x5x16.\n",
    "    ly_2 = tf.nn.max_pool(ly_2, ksize=[1, 2, 2, 1], strides=[1, 2, 2, 1], padding='SAME')\n",
    "    \n",
    "    #apply dropout\n",
    "    ly_2 = tf.nn.dropout(ly_2, keep_prob)\n",
    "    \n",
    "    # TODO: Flatten. Input = 5x5x16. Output = 400.\n",
    "    flat = tf.reshape(ly_2, [-1, weights[2].get_shape().as_list()[0]])\n",
    "    \n",
    "    # TODO: Layer 3: Fully Connected. Input = 400. Output = 120.\n",
    "    ly_3 = tf.add(tf.matmul(flat, weights[2]), biases[2])\n",
    "    \n",
    "    #apply dropout\n",
    "    #ly_3 = tf.nn.dropout(ly_3, keep_prob)\n",
    "    \n",
    "    # TODO: Activation.\n",
    "    ly_3 = tf.nn.relu(ly_3)\n",
    "\n",
    "    # TODO: Layer 4: Fully Connected. Input = 120. Output = 84.\n",
    "    ly_4 = tf.add(tf.matmul(ly_3, weights[3]), biases[3])\n",
    "    \n",
    "    # TODO: Activation.\n",
    "    #ly_4 = tf.nn.relu(ly_4)\n",
    "\n",
    "    # TODO: Layer 5: Fully Connected. Input = 84. Output = n_classes.\n",
    "    #ly_5 = tf.add(tf.matmul(ly_4, weights[4]), biases[4])\n",
    "    \n",
    "    # Loss function with L2 Regularization with beta=0.01\n",
    "    regularizers = tf.nn.l2_loss(weights[0]) + tf.nn.l2_loss(weights[1]) + tf.nn.l2_loss(weights[2]) + tf.nn.l2_loss(weights[3])\n",
    "    \n",
    "    return [ly_4, regularizers]\n",
    "\n",
    "\n",
    "x = tf.placeholder(tf.float32, (None, 32, 32, 1))\n",
    "y = tf.placeholder(tf.int32, (None))\n",
    "keep_prob = tf.placeholder(tf.float32)\n",
    "one_hot_y = tf.one_hot(y, n_classes)\n",
    "\n",
    "logits, regularizers = LeNet(x, keep_prob)\n",
    "cross_entropy = tf.nn.softmax_cross_entropy_with_logits(logits=logits, labels=one_hot_y)\n",
    "loss_operation = tf.reduce_mean(cross_entropy)\n",
    "#loss_operation = tf.reduce_mean(loss_operation + beta * regularizers)\n",
    "\n",
    "rate = tf.placeholder(tf.float32)\n",
    "optimizer = tf.train.AdamOptimizer(learning_rate = rate)\n",
    "training_operation = optimizer.minimize(loss_operation)\n",
    "\n",
    "correct_prediction = tf.equal(tf.argmax(logits, 1), tf.argmax(one_hot_y, 1))\n",
    "accuracy_operation = tf.reduce_mean(tf.cast(correct_prediction, tf.float32))"
   ]
  },
  {
   "cell_type": "markdown",
   "metadata": {
    "deletable": true,
    "editable": true
   },
   "source": [
    "### Train, Validate and Test the Model"
   ]
  },
  {
   "cell_type": "markdown",
   "metadata": {
    "deletable": true,
    "editable": true
   },
   "source": [
    "A validation set can be used to assess how well the model is performing. A low accuracy on the training and validation\n",
    "sets imply underfitting. A high accuracy on the training set but low accuracy on the validation set implies overfitting."
   ]
  },
  {
   "cell_type": "code",
   "execution_count": 145,
   "metadata": {
    "collapsed": false,
    "deletable": true,
    "editable": true,
    "scrolled": true
   },
   "outputs": [
    {
     "name": "stdout",
     "output_type": "stream",
     "text": [
      "Training..rate= 0.0005 batch= 128\n",
      "  EPOCH 1 T=0.483 V=0.423\n",
      "  EPOCH 11 T=0.955 V=0.881\n",
      "  EPOCH 21 T=0.981 V=0.923\n",
      "  EPOCH 31 T=0.988 V=0.935\n",
      "  EPOCH 41 T=0.991 V=0.940\n",
      "  EPOCH 51 T=0.994 V=0.943\n",
      "  EPOCH 61 T=0.997 V=0.954\n",
      "  EPOCH 71 T=0.996 V=0.955\n",
      "  EPOCH 81 T=0.998 V=0.959\n",
      "  EPOCH 91 T=0.998 V=0.955\n",
      "Training..rate= 0.0005 batch= 256\n",
      "  EPOCH 1 T=0.318 V=0.285\n",
      "  EPOCH 11 T=0.927 V=0.857\n",
      "  EPOCH 21 T=0.970 V=0.900\n",
      "  EPOCH 31 T=0.982 V=0.912\n",
      "  EPOCH 41 T=0.987 V=0.924\n",
      "  EPOCH 51 T=0.990 V=0.937\n",
      "  EPOCH 61 T=0.992 V=0.940\n",
      "  EPOCH 71 T=0.993 V=0.939\n",
      "  EPOCH 81 T=0.994 V=0.941\n",
      "  EPOCH 91 T=0.996 V=0.952\n",
      "Training..rate= 0.001 batch= 128\n",
      "  EPOCH 1 T=0.700 V=0.638\n",
      "  EPOCH 11 T=0.978 V=0.912\n",
      "  EPOCH 21 T=0.989 V=0.935\n",
      "  EPOCH 31 T=0.992 V=0.936\n",
      "  EPOCH 41 T=0.996 V=0.937\n",
      "  EPOCH 51 T=0.997 V=0.950\n",
      "  EPOCH 61 T=0.998 V=0.945\n",
      "  EPOCH 71 T=0.998 V=0.951\n",
      "  EPOCH 81 T=0.998 V=0.954\n",
      "  EPOCH 91 T=0.999 V=0.946\n",
      "Training..rate= 0.001 batch= 256\n",
      "  EPOCH 1 T=0.504 V=0.430\n",
      "  EPOCH 11 T=0.973 V=0.911\n",
      "  EPOCH 21 T=0.988 V=0.936\n",
      "  EPOCH 31 T=0.992 V=0.937\n",
      "  EPOCH 41 T=0.994 V=0.942\n",
      "  EPOCH 51 T=0.995 V=0.949\n",
      "  EPOCH 61 T=0.997 V=0.954\n",
      "  EPOCH 71 T=0.998 V=0.953\n",
      "  EPOCH 81 T=0.997 V=0.955\n",
      "  EPOCH 91 T=0.998 V=0.954\n",
      "Max accuracy= 0.963492063762\n",
      "  with batch= 128 , rate= 0.0005 , epoch= 91\n"
     ]
    }
   ],
   "source": [
    "### Train your model here.\n",
    "### Calculate and report the accuracy on the training and validation set.\n",
    "### Once a final model architecture is selected, \n",
    "### the accuracy on the test set should be calculated and reported as well.\n",
    "\n",
    "def evaluate(X_data, y_data, learn_rate, batch_size):\n",
    "    num_examples = len(X_data)\n",
    "    total_accuracy = 0\n",
    "    sess = tf.get_default_session()\n",
    "    for offset in range(0, num_examples, batch_size):\n",
    "        batch_x, batch_y = X_data[offset:offset+batch_size], y_data[offset:offset+batch_size]\n",
    "        accuracy = sess.run(accuracy_operation, feed_dict={x: batch_x, y: batch_y, rate: learn_rate, keep_prob:1.0})\n",
    "        total_accuracy += (accuracy * len(batch_x))\n",
    "    return total_accuracy / num_examples\n",
    "\n",
    "\n",
    "EPOCHS = 150\n",
    "batch_size_list = [128, 256]\n",
    "learn_rate_list = [0.0005, 0.001]\n",
    "max_accur = 0.0\n",
    "max_batch_size = 0\n",
    "max_rate = 0.0\n",
    "curr_epoch = 0\n",
    "\n",
    "saver = tf.train.Saver()\n",
    "\n",
    "for learning_rate in learn_rate_list:\n",
    "    for batch_size in batch_size_list:\n",
    "        print('Training..rate=', learning_rate, 'batch=', batch_size)\n",
    "\n",
    "        with tf.Session() as sess:\n",
    "            sess.run(tf.global_variables_initializer())\n",
    "            num_examples = len(X_train)\n",
    "\n",
    "            for i in range(EPOCHS):\n",
    "                X_train, y_train = shuffle(X_train, y_train)\n",
    "                #print('after shuffle:', X_train.shape)\n",
    "                for offset in range(0, num_examples, batch_size):\n",
    "                    end = offset + batch_size\n",
    "                    batch_x, batch_y = X_train[offset:end], y_train[offset:end]\n",
    "                    sess.run(training_operation, feed_dict={x: batch_x, y: batch_y, rate:learning_rate, keep_prob:0.5})\n",
    "\n",
    "                validation_accuracy = evaluate(X_valid, y_valid, learning_rate, batch_size)\n",
    "                train_accuracy = evaluate(X_train, y_train, learning_rate, batch_size)\n",
    "                \n",
    "                if i%10 == 0:\n",
    "                    print(\"  EPOCH {} T={:.3f} V={:.3f}\".format(i+1, train_accuracy, validation_accuracy))\n",
    "                \n",
    "                if validation_accuracy > max_accur:\n",
    "                    max_accur = validation_accuracy\n",
    "                    max_batch_size = batch_size\n",
    "                    max_rate = learning_rate\n",
    "                    curr_epoch = i\n",
    "                if validation_accuracy > 0.962:\n",
    "                    saver.save(sess, './lenet')\n",
    "                #prev_accur = validation_accuracy\n",
    "        #tf.reset_default_graph()\n",
    "        \n",
    "print('Max accuracy=', max_accur)\n",
    "print('  with batch=', max_batch_size, ', rate=', max_rate, ', epoch=', curr_epoch)\n",
    "        \n",
    "    #print(\"Model saved\")"
   ]
  },
  {
   "cell_type": "markdown",
   "metadata": {},
   "source": [
    "---\n",
    "Test the model having best validation accuracy found above with the test set"
   ]
  },
  {
   "cell_type": "code",
   "execution_count": 285,
   "metadata": {
    "collapsed": false
   },
   "outputs": [
    {
     "name": "stdout",
     "output_type": "stream",
     "text": [
      "  Train Accuracy=0.999, numSamples=12630\n",
      "  Validate Accuracy=0.962, numSamples=12630\n",
      "  Test Accuracy=0.942, numSamples=12630\n"
     ]
    }
   ],
   "source": [
    "with tf.Session() as sess:\n",
    "    #sess.run(tf.global_variables_initializer())\n",
    "    \n",
    "    saver.restore(sess, './lenet')\n",
    "    num_examples = len(X_test)\n",
    "\n",
    "    test_accuracy = evaluate(X_test, y_test, learning_rate, batch_size)\n",
    "    validation_accuracy = evaluate(X_valid, y_valid, learning_rate, batch_size)\n",
    "    train_accuracy = evaluate(X_train, y_train, learning_rate, batch_size)\n",
    "    \n",
    "    print(\"  Train Accuracy={:.3f}, numSamples={}\".format(train_accuracy, num_examples))\n",
    "    print(\"  Validate Accuracy={:.3f}, numSamples={}\".format(validation_accuracy, num_examples))\n",
    "    print(\"  Test Accuracy={:.3f}, numSamples={}\".format(test_accuracy, num_examples))"
   ]
  },
  {
   "cell_type": "markdown",
   "metadata": {
    "deletable": true,
    "editable": true
   },
   "source": [
    "---\n",
    "\n",
    "## Step 3: Test a Model on New Images\n",
    "\n",
    "To give yourself more insight into how your model is working, download at least five pictures of German traffic signs from the web and use your model to predict the traffic sign type.\n",
    "\n",
    "You may find `signnames.csv` useful as it contains mappings from the class id (integer) to the actual sign name."
   ]
  },
  {
   "cell_type": "markdown",
   "metadata": {
    "deletable": true,
    "editable": true
   },
   "source": [
    "### Load and Output the Images"
   ]
  },
  {
   "cell_type": "code",
   "execution_count": 266,
   "metadata": {
    "collapsed": false,
    "deletable": true,
    "editable": true
   },
   "outputs": [
    {
     "data": {
      "image/png": "[encoded data removed]",
      "text/plain": [
       "<matplotlib.figure.Figure at 0x1d732793128>"
      ]
     },
     "metadata": {},
     "output_type": "display_data"
    }
   ],
   "source": [
    "### Load the images and plot them here.\n",
    "### Feel free to use as many code cells as needed.\n",
    "fig = plt.figure(figsize=(10,5))\n",
    "extraImage = np.empty([5, 32, 32, 3], dtype='uint8')\n",
    "\n",
    "for i in range(1, 6, 1):\n",
    "    #img = cv2.imread('download_signs/'+str(i)+'.jpg')        \n",
    "    img = plt.imread('download_signs/'+str(i)+'.jpg')\n",
    "    n=min(img.shape[:2])\n",
    "    crop = cv2.resize(img[:n,:n],(32,32), interpolation = cv2.INTER_CUBIC)\n",
    "    extraImage[i-1] = crop\n",
    "\n",
    "    plt.subplot(170+i)\n",
    "    plt.axis('off')\n",
    "    plt.imshow(extraImage[i-1], cmap=\"gray\")\n",
    "    \n",
    "pylab.savefig('extra.png')\n",
    "\n",
    "extra_label = [2, 11, 22, 25, 14]"
   ]
  },
  {
   "cell_type": "markdown",
   "metadata": {
    "deletable": true,
    "editable": true
   },
   "source": [
    "### Predict the Sign Type for Each Image"
   ]
  },
  {
   "cell_type": "code",
   "execution_count": 267,
   "metadata": {
    "collapsed": false,
    "deletable": true,
    "editable": true
   },
   "outputs": [
    {
     "name": "stdout",
     "output_type": "stream",
     "text": [
      "(5, 32, 32, 3)\n"
     ]
    },
    {
     "data": {
      "image/png": "[encoded data removed]",
      "text/plain": [
       "<matplotlib.figure.Figure at 0x1d5ce373eb8>"
      ]
     },
     "metadata": {},
     "output_type": "display_data"
    },
    {
     "data": {
      "image/png": "[encoded data removed]",
      "text/plain": [
       "<matplotlib.figure.Figure at 0x1d5ce373b38>"
      ]
     },
     "metadata": {},
     "output_type": "display_data"
    },
    {
     "data": {
      "image/png": "[encoded data removed]",
      "text/plain": [
       "<matplotlib.figure.Figure at 0x1d7387465f8>"
      ]
     },
     "metadata": {},
     "output_type": "display_data"
    }
   ],
   "source": [
    "### Run the predictions here and use the model to output the prediction for each image.\n",
    "### Make sure to pre-process the images with the same pre-processing pipeline used earlier.\n",
    "### Feel free to use as many code cells as needed.\n",
    "print(extraImage.shape)\n",
    "index = 0\n",
    "extraImagePreprocessed = preprocess(extraImage)\n",
    "pylab.savefig('preprocess_extra_0.png')\n",
    "\n",
    "index = 1\n",
    "extraImagePreprocessed = preprocess(extraImage)\n",
    "pylab.savefig('preprocess_extra_1.png')\n",
    "\n",
    "index = 2\n",
    "extraImagePreprocessed = preprocess(extraImage)\n",
    "pylab.savefig('preprocess_extra_2.png')"
   ]
  },
  {
   "cell_type": "code",
   "execution_count": 284,
   "metadata": {
    "collapsed": false
   },
   "outputs": [
    {
     "name": "stdout",
     "output_type": "stream",
     "text": [
      "  Extra test predict confidence=[  6.3486824   36.12126923  37.69388199   8.97979927   8.60559082]\n",
      "  Extra test prediction=[40 11 25 25 21]\n"
     ]
    }
   ],
   "source": [
    "import operator\n",
    "\n",
    "def predict(X_data, y_data, learn_rate, batch_size):\n",
    "    num_examples = len(X_data)\n",
    "    sess = tf.get_default_session()\n",
    "    batch_x, batch_y = X_data, y_data\n",
    "    prediction = sess.run(logits, feed_dict={x: batch_x, y: batch_y, rate: learn_rate, keep_prob:1.0})\n",
    "    #prediction = sess.run(correct_prediction, feed_dict={x: batch_x, y: batch_y, rate: learn_rate, keep_prob:1.0})\n",
    "    return prediction\n",
    "\n",
    "predict_indices = []\n",
    "\n",
    "with tf.Session() as sess:    \n",
    "    saver.restore(sess, './lenet')\n",
    "\n",
    "    prediction = predict(extraImagePreprocessed, extra_label, learning_rate, batch_size)\n",
    "    #print(prediction.shape)\n",
    "    \n",
    "    predict_indices = np.argmax(prediction, axis=1)\n",
    "    predict_values = np.amax(prediction, axis=1)\n",
    "    print(\"  Extra test predict confidence={}\".format(predict_values))    \n",
    "    print(\"  Extra test prediction={}\".format(predict_indices))"
   ]
  },
  {
   "cell_type": "markdown",
   "metadata": {
    "deletable": true,
    "editable": true
   },
   "source": [
    "### Analyze Performance"
   ]
  },
  {
   "cell_type": "code",
   "execution_count": 283,
   "metadata": {
    "collapsed": false,
    "deletable": true,
    "editable": true
   },
   "outputs": [
    {
     "name": "stdout",
     "output_type": "stream",
     "text": [
      "Extra test accuracy =0.4\n"
     ]
    }
   ],
   "source": [
    "### Calculate the accuracy for these 5 new images. \n",
    "### For example, if the model predicted 1 out of 5 signs correctly, it's 20% accurate on these new images.\n",
    "same = set(extra_label) & set(predict_indices)\n",
    "extra_accuracy = len(same)/5\n",
    "print(\"Extra test accuracy ={}\".format(extra_accuracy))"
   ]
  },
  {
   "cell_type": "markdown",
   "metadata": {
    "deletable": true,
    "editable": true
   },
   "source": [
    "### Output Top 5 Softmax Probabilities For Each Image Found on the Web"
   ]
  },
  {
   "cell_type": "markdown",
   "metadata": {
    "deletable": true,
    "editable": true
   },
   "source": [
    "For each of the new images, print out the model's softmax probabilities to show the **certainty** of the model's predictions (limit the output to the top 5 probabilities for each image). [`tf.nn.top_k`](https://www.tensorflow.org/versions/r0.12/api_docs/python/nn.html#top_k) could prove helpful here. \n",
    "\n",
    "The example below demonstrates how tf.nn.top_k can be used to find the top k predictions for each image.\n",
    "\n",
    "`tf.nn.top_k` will return the values and indices (class ids) of the top k predictions. So if k=3, for each sign, it'll return the 3 largest probabilities (out of a possible 43) and the correspoding class ids.\n",
    "\n",
    "Take this numpy array as an example. The values in the array represent predictions. The array contains softmax probabilities for five candidate images with six possible classes. `tk.nn.top_k` is used to choose the three classes with the highest probability:\n",
    "\n",
    "```\n",
    "# (5, 6) array\n",
    "a = np.array([[ 0.24879643,  0.07032244,  0.12641572,  0.34763842,  0.07893497,\n",
    "         0.12789202],\n",
    "       [ 0.28086119,  0.27569815,  0.08594638,  0.0178669 ,  0.18063401,\n",
    "         0.15899337],\n",
    "       [ 0.26076848,  0.23664738,  0.08020603,  0.07001922,  0.1134371 ,\n",
    "         0.23892179],\n",
    "       [ 0.11943333,  0.29198961,  0.02605103,  0.26234032,  0.1351348 ,\n",
    "         0.16505091],\n",
    "       [ 0.09561176,  0.34396535,  0.0643941 ,  0.16240774,  0.24206137,\n",
    "         0.09155967]])\n",
    "```\n",
    "\n",
    "Running it through `sess.run(tf.nn.top_k(tf.constant(a), k=3))` produces:\n",
    "\n",
    "```\n",
    "TopKV2(values=array([[ 0.34763842,  0.24879643,  0.12789202],\n",
    "       [ 0.28086119,  0.27569815,  0.18063401],\n",
    "       [ 0.26076848,  0.23892179,  0.23664738],\n",
    "       [ 0.29198961,  0.26234032,  0.16505091],\n",
    "       [ 0.34396535,  0.24206137,  0.16240774]]), indices=array([[3, 0, 5],\n",
    "       [0, 1, 4],\n",
    "       [0, 5, 1],\n",
    "       [1, 3, 5],\n",
    "       [1, 4, 3]], dtype=int32))\n",
    "```\n",
    "\n",
    "Looking just at the first row we get `[ 0.34763842,  0.24879643,  0.12789202]`, you can confirm these are the 3 largest probabilities in `a`. You'll also notice `[3, 0, 5]` are the corresponding indices."
   ]
  },
  {
   "cell_type": "code",
   "execution_count": 362,
   "metadata": {
    "collapsed": false,
    "deletable": true,
    "editable": true,
    "scrolled": false
   },
   "outputs": [
    {
     "name": "stdout",
     "output_type": "stream",
     "text": [
      "  Extra test predict result=TopKV2(values=array([[  7.87728190e-01,   1.82067767e-01,   2.23482754e-02,\n",
      "          5.33143291e-03,   1.65932579e-03],\n",
      "       [  9.99987125e-01,   1.22189285e-05,   5.61824663e-07,\n",
      "          2.25352537e-09,   1.22244737e-09],\n",
      "       [  1.00000000e+00,   3.04019885e-08,   6.98623356e-14,\n",
      "          4.72381432e-14,   1.03068968e-14],\n",
      "       [  9.97821569e-01,   8.85612622e-04,   4.99984308e-04,\n",
      "          2.65171228e-04,   2.62369722e-04],\n",
      "       [  7.45637536e-01,   2.22166061e-01,   1.54766003e-02,\n",
      "          1.36926910e-02,   1.73999788e-03]], dtype=float32), indices=array([[40,  2,  1, 23, 14],\n",
      "       [11, 30, 27, 18, 24],\n",
      "       [25, 26, 20, 18, 11],\n",
      "       [25, 30, 37,  1, 28],\n",
      "       [21, 31, 40, 12, 11]]))\n"
     ]
    }
   ],
   "source": [
    "### Print out the top five softmax probabilities for the predictions on the German traffic sign images found on the web. \n",
    "### Feel free to use as many code cells as needed.\n",
    "y_predict = tf.nn.softmax(logits)\n",
    "\n",
    "def predict_k(X_data, y_data, learn_rate, batch_size, k):\n",
    "    num_examples = len(X_data)\n",
    "    sess = tf.get_default_session()\n",
    "    batch_x, batch_y = X_data, y_data\n",
    "    #prediction = sess.run(tf.nn.top_k(logits, k=k), feed_dict={x: batch_x, y: batch_y, rate: learn_rate, keep_prob:1.0})\n",
    "    prediction = sess.run(tf.nn.top_k(y_predict, k=k), feed_dict={x: batch_x, y: batch_y, rate: learn_rate, keep_prob:1.0})\n",
    "    return prediction\n",
    "\n",
    "with tf.Session() as sess:    \n",
    "    saver.restore(sess, './lenet')\n",
    "\n",
    "    prediction = predict_k(extraImagePreprocessed, extra_label, learning_rate, batch_size, 5)\n",
    "    #print(prediction.shape)\n",
    "    \n",
    "    #predict_indices = np.argmax(prediction, axis=1)\n",
    "    #predict_values = np.amax(prediction, axis=1)\n",
    "    print(\"  Extra test predict result={}\".format(prediction))    \n",
    "    #print(\"  Extra test prediction={}\".format(predict_indices))\n",
    "    \n"
   ]
  },
  {
   "cell_type": "code",
   "execution_count": 407,
   "metadata": {
    "collapsed": false
   },
   "outputs": [
    {
     "name": "stdout",
     "output_type": "stream",
     "text": [
      "['Roundabout mandatory', 'Speed limit (50km/h)', 'Speed limit (30km/h)', 'Slippery road', 'Stop']\n",
      "[ 0.78772819  0.18206777  0.02234828  0.00533143  0.00165933]\n",
      "['Right-of-way at the next intersection', 'Beware of ice/snow', 'Pedestrians', 'General caution', 'Road narrows on the right']\n",
      "[  9.99987125e-01   1.22189285e-05   5.61824663e-07   2.25352537e-09\n",
      "   1.22244737e-09]\n",
      "['Road work', 'Traffic signals', 'Dangerous curve to the right', 'General caution', 'Right-of-way at the next intersection']\n",
      "[  1.00000000e+00   3.04019885e-08   6.98623356e-14   4.72381432e-14\n",
      "   1.03068968e-14]\n",
      "['Road work', 'Beware of ice/snow', 'Go straight or left', 'Speed limit (30km/h)', 'Children crossing']\n",
      "[  9.97821569e-01   8.85612622e-04   4.99984308e-04   2.65171228e-04\n",
      "   2.62369722e-04]\n",
      "['Double curve', 'Wild animals crossing', 'Roundabout mandatory', 'Priority road', 'Right-of-way at the next intersection']\n",
      "[ 0.74563754  0.22216606  0.0154766   0.01369269  0.00174   ]\n"
     ]
    },
    {
     "data": {
      "image/png": "[encoded data removed]",
      "text/plain": [
       "<matplotlib.figure.Figure at 0x1d7364add68>"
      ]
     },
     "metadata": {},
     "output_type": "display_data"
    }
   ],
   "source": [
    "#visualize the top 5 softmax probabilities\n",
    "import csv\n",
    "with open('signnames.csv', 'r') as f:\n",
    "    reader = csv.reader(f)\n",
    "    sign_name_list = list(reader)[1:]\n",
    "\n",
    "#print (sign_name_list)\n",
    "width = 1/1.5\n",
    "ind = np.arange(5)\n",
    "\n",
    "fig = plt.figure(figsize=(23,10))\n",
    "fig.subplots_adjust(wspace=1.0, hspace=0.4)\n",
    "\n",
    "ax = plt.subplot(231)\n",
    "plt.xlim(0, 1.0)\n",
    "index_names = [sign_name_list[int(x)][1] for x in prediction.indices[0]]\n",
    "print(index_names)\n",
    "print(prediction.values[0])\n",
    "plt.yticks(ind, index_names)\n",
    "ax.barh(ind, prediction.values[0], width, color=\"blue\", align='center')\n",
    "plt.xlabel('Probabilities')\n",
    "plt.title('Image 1-'+sign_name_list[extra_label[0]][1])\n",
    "\n",
    "ax = plt.subplot(232)\n",
    "index_names = [sign_name_list[int(x)][1] for x in prediction.indices[1]]\n",
    "print(index_names)\n",
    "print(prediction.values[1])\n",
    "plt.xlim(0, 1.0)\n",
    "plt.yticks(ind, index_names)\n",
    "ax.barh(ind, prediction.values[1], width, color=\"blue\", align='center')\n",
    "plt.xlabel('Probabilities')\n",
    "plt.title('Image 2-'+sign_name_list[extra_label[1]][1])\n",
    "\n",
    "ax = plt.subplot(233)\n",
    "index_names = [sign_name_list[int(x)][1] for x in prediction.indices[2]]\n",
    "print(index_names)\n",
    "print(prediction.values[2])\n",
    "plt.xlim(0, 1.0)\n",
    "plt.yticks(ind, index_names)\n",
    "ax.barh(ind, prediction.values[2], width, color=\"blue\", align='center')\n",
    "plt.xlabel('Probabilities')\n",
    "plt.title('Image 3-'+sign_name_list[extra_label[2]][1])\n",
    "\n",
    "ax = plt.subplot(234)\n",
    "index_names = [sign_name_list[int(x)][1] for x in prediction.indices[3]]\n",
    "print(index_names)\n",
    "print(prediction.values[3])\n",
    "plt.xlim(0, 1.0)\n",
    "plt.yticks(ind, index_names)\n",
    "ax.barh(ind, prediction.values[3], width, color=\"blue\", align='center')\n",
    "plt.xlabel('Probabilities')\n",
    "plt.title('Image 4-'+sign_name_list[extra_label[3]][1])\n",
    "\n",
    "ax = plt.subplot(235)\n",
    "index_names = [sign_name_list[int(x)][1] for x in prediction.indices[4]]\n",
    "print(index_names)\n",
    "print(prediction.values[4])\n",
    "plt.xlim(0, 1.0)\n",
    "plt.yticks(ind, index_names)\n",
    "ax.barh(ind, prediction.values[4], width, color=\"blue\", align='center')\n",
    "plt.xlabel('Probabilities')\n",
    "plt.title('Image 5-'+sign_name_list[extra_label[4]][1])\n",
    "\n",
    "pylab.savefig('extra_softmax_bar.png')"
   ]
  },
  {
   "cell_type": "markdown",
   "metadata": {
    "deletable": true,
    "editable": true
   },
   "source": [
    "---\n",
    "\n",
    "## Step 4: Visualize the Neural Network's State with Test Images\n",
    "\n",
    " This Section is not required to complete but acts as an additional excersise for understaning the output of a neural network's weights. While neural networks can be a great learning device they are often referred to as a black box. We can understand what the weights of a neural network look like better by plotting their feature maps. After successfully training your neural network you can see what it's feature maps look like by plotting the output of the network's weight layers in response to a test stimuli image. From these plotted feature maps, it's possible to see what characteristics of an image the network finds interesting. For a sign, maybe the inner network feature maps react with high activation to the sign's boundary outline or to the contrast in the sign's painted symbol.\n",
    "\n",
    " Provided for you below is the function code that allows you to get the visualization output of any tensorflow weight layer you want. The inputs to the function should be a stimuli image, one used during training or a new one you provided, and then the tensorflow variable name that represents the layer's state during the training process, for instance if you wanted to see what the [LeNet lab's](https://classroom.udacity.com/nanodegrees/nd013/parts/fbf77062-5703-404e-b60c-95b78b2f3f9e/modules/6df7ae49-c61c-4bb2-a23e-6527e69209ec/lessons/601ae704-1035-4287-8b11-e2c2716217ad/concepts/d4aca031-508f-4e0b-b493-e7b706120f81) feature maps looked like for it's second convolutional layer you could enter conv2 as the tf_activation variable.\n",
    "\n",
    "For an example of what feature map outputs look like, check out NVIDIA's results in their paper [End-to-End Deep Learning for Self-Driving Cars](https://devblogs.nvidia.com/parallelforall/deep-learning-self-driving-cars/) in the section Visualization of internal CNN State. NVIDIA was able to show that their network's inner weights had high activations to road boundary lines by comparing feature maps from an image with a clear path to one without. Try experimenting with a similar test to show that your trained network's weights are looking for interesting features, whether it's looking at differences in feature maps from images with or without a sign, or even what feature maps look like in a trained network vs a completely untrained one on the same sign image.\n",
    "\n",
    "<figure>\n",
    " <img src=\"visualize_cnn.png\" width=\"380\" alt=\"Combined Image\" />\n",
    " <figcaption>\n",
    " <p></p> \n",
    " <p style=\"text-align: center;\"> Your output should look something like this (above)</p> \n",
    " </figcaption>\n",
    "</figure>\n",
    " <p></p> \n"
   ]
  },
  {
   "cell_type": "code",
   "execution_count": null,
   "metadata": {
    "collapsed": true,
    "deletable": true,
    "editable": true
   },
   "outputs": [],
   "source": [
    "### Visualize your network's feature maps here.\n",
    "### Feel free to use as many code cells as needed.\n",
    "\n",
    "# image_input: the test image being fed into the network to produce the feature maps\n",
    "# tf_activation: should be a tf variable name used during your training procedure that represents the calculated state of a specific weight layer\n",
    "# activation_min/max: can be used to view the activation contrast in more detail, by default matplot sets min and max to the actual min and max values of the output\n",
    "# plt_num: used to plot out multiple different weight feature map sets on the same block, just extend the plt number for each new feature map entry\n",
    "\n",
    "def outputFeatureMap(image_input, tf_activation, activation_min=-1, activation_max=-1 ,plt_num=1):\n",
    "    # Here make sure to preprocess your image_input in a way your network expects\n",
    "    # with size, normalization, ect if needed\n",
    "    # image_input =\n",
    "    # Note: x should be the same name as your network's tensorflow data placeholder variable\n",
    "    # If you get an error tf_activation is not defined it maybe having trouble accessing the variable from inside a function\n",
    "    activation = tf_activation.eval(session=sess,feed_dict={x : image_input})\n",
    "    featuremaps = activation.shape[3]\n",
    "    plt.figure(plt_num, figsize=(15,15))\n",
    "    for featuremap in range(featuremaps):\n",
    "        plt.subplot(6,8, featuremap+1) # sets the number of feature maps to show on each row and column\n",
    "        plt.title('FeatureMap ' + str(featuremap)) # displays the feature map number\n",
    "        if activation_min != -1 & activation_max != -1:\n",
    "            plt.imshow(activation[0,:,:, featuremap], interpolation=\"nearest\", vmin =activation_min, vmax=activation_max, cmap=\"gray\")\n",
    "        elif activation_max != -1:\n",
    "            plt.imshow(activation[0,:,:, featuremap], interpolation=\"nearest\", vmax=activation_max, cmap=\"gray\")\n",
    "        elif activation_min !=-1:\n",
    "            plt.imshow(activation[0,:,:, featuremap], interpolation=\"nearest\", vmin=activation_min, cmap=\"gray\")\n",
    "        else:\n",
    "            plt.imshow(activation[0,:,:, featuremap], interpolation=\"nearest\", cmap=\"gray\")"
   ]
  },
  {
   "cell_type": "markdown",
   "metadata": {
    "deletable": true,
    "editable": true
   },
   "source": [
    "### Question 9\n",
    "\n",
    "Discuss how you used the visual output of your trained network's feature maps to show that it had learned to look for interesting characteristics in traffic sign images\n"
   ]
  },
  {
   "cell_type": "markdown",
   "metadata": {
    "deletable": true,
    "editable": true
   },
   "source": [
    "**Answer:**"
   ]
  },
  {
   "cell_type": "markdown",
   "metadata": {
    "deletable": true,
    "editable": true
   },
   "source": [
    "> **Note**: Once you have completed all of the code implementations and successfully answered each question above, you may finalize your work by exporting the iPython Notebook as an HTML document. You can do this by using the menu above and navigating to  \\n\",\n",
    "    \"**File -> Download as -> HTML (.html)**. Include the finished document along with this notebook as your submission."
   ]
  },
  {
   "cell_type": "markdown",
   "metadata": {
    "deletable": true,
    "editable": true
   },
   "source": [
    "### Project Writeup\n",
    "\n",
    "Once you have completed the code implementation, document your results in a project writeup using this [template](https://github.com/udacity/CarND-Traffic-Sign-Classifier-Project/blob/master/writeup_template.md) as a guide. The writeup can be in a markdown or pdf file. "
   ]
  }
 ],
 "metadata": {
  "anaconda-cloud": {},
  "kernelspec": {
   "display_name": "Python 3",
   "language": "python",
   "name": "python3"
  },
  "language_info": {
   "codemirror_mode": {
    "name": "ipython",
    "version": 3
   },
   "file_extension": ".py",
   "mimetype": "text/x-python",
   "name": "python",
   "nbconvert_exporter": "python",
   "pygments_lexer": "ipython3",
   "version": "3.5.3"
  }
 },
 "nbformat": 4,
 "nbformat_minor": 1
}
